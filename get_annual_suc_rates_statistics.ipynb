{
 "cells": [
  {
   "cell_type": "code",
   "execution_count": 3,
   "metadata": {},
   "outputs": [
    {
     "ename": "NameError",
     "evalue": "name 'AQUA' is not defined",
     "output_type": "error",
     "traceback": [
      "\u001b[0;31m---------------------------------------------------------------------------\u001b[0m",
      "\u001b[0;31mNameError\u001b[0m                                 Traceback (most recent call last)",
      "\u001b[0;32m<ipython-input-3-952c5cfd1f95>\u001b[0m in \u001b[0;36m<module>\u001b[0;34m\u001b[0m\n\u001b[1;32m      7\u001b[0m \u001b[0;32mfrom\u001b[0m \u001b[0mdatetime\u001b[0m \u001b[0;32mimport\u001b[0m \u001b[0mdatetime\u001b[0m\u001b[0;34m\u001b[0m\u001b[0;34m\u001b[0m\u001b[0m\n\u001b[1;32m      8\u001b[0m \u001b[0;34m\u001b[0m\u001b[0m\n\u001b[0;32m----> 9\u001b[0;31m \u001b[0;32mfrom\u001b[0m \u001b[0mget_latency_data\u001b[0m \u001b[0;32mimport\u001b[0m\u001b[0;31m \u001b[0m\u001b[0;31m\\\u001b[0m\u001b[0;34m\u001b[0m\u001b[0;34m\u001b[0m\u001b[0m\n\u001b[0m\u001b[1;32m     10\u001b[0m     \u001b[0maqua_by_month_data\u001b[0m\u001b[0;34m,\u001b[0m\u001b[0;31m \u001b[0m\u001b[0;31m\\\u001b[0m\u001b[0;34m\u001b[0m\u001b[0;34m\u001b[0m\u001b[0m\n\u001b[1;32m     11\u001b[0m     \u001b[0maqua_by_year_data\u001b[0m\u001b[0;34m,\u001b[0m\u001b[0;31m \u001b[0m\u001b[0;31m\\\u001b[0m\u001b[0;34m\u001b[0m\u001b[0;34m\u001b[0m\u001b[0m\n",
      "\u001b[0;32m~/Documents/GIT/Latency/get_latency_data.py\u001b[0m in \u001b[0;36m<module>\u001b[0;34m\u001b[0m\n\u001b[1;32m     83\u001b[0m \u001b[0;34m\u001b[0m\u001b[0m\n\u001b[1;32m     84\u001b[0m \u001b[0;34m\u001b[0m\u001b[0m\n\u001b[0;32m---> 85\u001b[0;31m \u001b[0maqua_by_month_data\u001b[0m \u001b[0;34m=\u001b[0m \u001b[0mPackedMultiVersionLatencyData\u001b[0m\u001b[0;34m(\u001b[0m\u001b[0mAQUA\u001b[0m\u001b[0;34m,\u001b[0m \u001b[0mFLAG_MONTH_STR\u001b[0m\u001b[0;34m)\u001b[0m\u001b[0;34m\u001b[0m\u001b[0;34m\u001b[0m\u001b[0m\n\u001b[0m\u001b[1;32m     86\u001b[0m \u001b[0mterra_by_month_data\u001b[0m \u001b[0;34m=\u001b[0m \u001b[0mPackedMultiVersionLatencyData\u001b[0m\u001b[0;34m(\u001b[0m\u001b[0mTERRA\u001b[0m\u001b[0;34m,\u001b[0m \u001b[0mFLAG_MONTH_STR\u001b[0m\u001b[0;34m)\u001b[0m\u001b[0;34m\u001b[0m\u001b[0;34m\u001b[0m\u001b[0m\n\u001b[1;32m     87\u001b[0m \u001b[0mtisa_by_month_data\u001b[0m \u001b[0;34m=\u001b[0m \u001b[0mPackedMultiVersionLatencyData\u001b[0m\u001b[0;34m(\u001b[0m\u001b[0mTISA\u001b[0m\u001b[0;34m,\u001b[0m \u001b[0mFLAG_MONTH_STR\u001b[0m\u001b[0;34m)\u001b[0m\u001b[0;34m\u001b[0m\u001b[0;34m\u001b[0m\u001b[0m\n",
      "\u001b[0;31mNameError\u001b[0m: name 'AQUA' is not defined"
     ]
    }
   ],
   "source": [
    "\"\"\"\n",
    "This file reads the monthly success rates from `/results/monthly/`, generates the yearly succuess rates, \n",
    "and then save them to `/results/annually/`\n",
    "\"\"\"\n",
    "\n",
    "from pandas import DataFrame, read_csv, Series\n",
    "from datetime import datetime\n",
    "\n",
    "# the input parameters\n",
    "INPUT_PATH_PREFIX = \"./results/monthly/\"   \n",
    "VERSIONS = ['Version3C', 'Version4A']\n",
    "AQUA = \"Aqua\"\n",
    "TERRA = \"Terra\"\n",
    "TISA = \"TISA\"\n",
    "TYPES = [AQUA, TERRA, TISA]\n",
    "\n",
    "DATE_STR_FMT = \"%b-%y\"  # time format string, e.g, \"Jan-21\"\n",
    "\n",
    "# ouput parameters\n",
    "OUTPUT_PATH_PREFIX = \"./results/annually/\"\n",
    "\n",
    "def convert_timestr_to_timeobj(time_str, fmt_str):\n",
    "    \"\"\"\n",
    "    Convert a time string to a time object in Python.\n",
    "    Note that when Python calling `read_csv` and reading `Jan-21`, it does not know \n",
    "    this string is a time. We need to mannually convert it to a time object in Python.\n",
    "    \"\"\"\n",
    "    return datetime.strptime(time_str, fmt_str)\n",
    "\n",
    "\n",
    "def convert_timestr_column_to_timeobj_column(timestr_column, fmt_str):\n",
    "    \"\"\"\n",
    "    Convert a column of time strings to a column of time objects.\n",
    "    \"\"\"\n",
    "    timeobj_column = []\n",
    "    for t in timestr_column:\n",
    "        timeobj_column.append(convert_timestr_to_timeobj(t, fmt_str))\n",
    "    return timeobj_column\n",
    "\n",
    "\n",
    "def load_one_column(table, column_name, index_name):\n",
    "    return Series(table[column_name].values, index=index_name)\n",
    "\n",
    "\n",
    "def save_to_csv(path_name_str, data):\n",
    "    \"\"\"\n",
    "    Save a csv file with content as :param data to a file named as :param path_name_str\n",
    "    \"\"\"\n",
    "    df = DataFrame(data)\n",
    "    df.to_csv(path_name_str, index=False)\n",
    "\n",
    "\n",
    "for type_str in TYPES:\n",
    "    for version_str in VERSIONS:\n",
    "        file_name_str = INPUT_PATH_PREFIX + type_str + '_' + version_str + '_SR_by_month.csv'\n",
    "        \n",
    "        df = read_csv(file_name_str)\n",
    "        \n",
    "        index_column = convert_timestr_column_to_timeobj_column(df['Month'].values, DATE_STR_FMT)\n",
    "        annual_sr_1 = load_one_column(df, df.iloc[:, 1].name, index_column).resample('Y').mean()\n",
    "        annual_sr_2 = load_one_column(df, df.iloc[:, 2].name, index_column).resample('Y').mean()\n",
    "        \n",
    "        data = {\n",
    "            'Year': annual_sr_1.index.strftime('%Y'),   # reformat time str to year solely, e.g \"2021\"\n",
    "            df.iloc[:, 1].name: annual_sr_1,\n",
    "            df.iloc[:, 2].name: annual_sr_2\n",
    "        }\n",
    "        \n",
    "        save_file_name_str = OUTPUT_PATH_PREFIX + type_str + '_' + version_str + '_SR_by_year.csv'  # create folder first\n",
    "        save_to_csv(save_file_name_str, data)\n"
   ]
  },
  {
   "cell_type": "code",
   "execution_count": null,
   "metadata": {},
   "outputs": [],
   "source": []
  },
  {
   "cell_type": "code",
   "execution_count": null,
   "metadata": {},
   "outputs": [],
   "source": []
  },
  {
   "cell_type": "code",
   "execution_count": null,
   "metadata": {},
   "outputs": [],
   "source": []
  }
 ],
 "metadata": {
  "kernelspec": {
   "display_name": "Python 3",
   "language": "python",
   "name": "python3"
  },
  "language_info": {
   "codemirror_mode": {
    "name": "ipython",
    "version": 3
   },
   "file_extension": ".py",
   "mimetype": "text/x-python",
   "name": "python",
   "nbconvert_exporter": "python",
   "pygments_lexer": "ipython3",
   "version": "3.8.5"
  }
 },
 "nbformat": 4,
 "nbformat_minor": 4
}
